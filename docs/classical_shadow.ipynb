{
 "cells": [
  {
   "cell_type": "markdown",
   "id": "dc7b2f49",
   "metadata": {},
   "source": [
    "# Classical Shadow\n"
   ]
  },
  {
   "cell_type": "markdown",
   "id": "d5e41d46",
   "metadata": {},
   "source": [
    "## Quam_libs\n",
    "\n",
    "It returns single-shot result.\n",
    "\n",
    "```py\n",
    "shots_per_snapshot = 128\n",
    "\"\"\"The shots number in per snapshot.\"\"\"\n",
    "results = job.result()\n",
    "\"\"\"\n",
    "list[tuple[dict[str, int], np.ndarray[int, np.dtype[int]]]]:\n",
    "    List of tuples containing the bitstring and the corresponding gate indices.\n",
    "\"\"\"\n",
    "```\n",
    "\n",
    "```{eval-rst}\n",
    "\n",
    ".. code-block::txt\n",
    "\n",
    "    # For examplem, a 3-qubit system\n",
    "    [(\n",
    "        {\"010\": 64, \"110\": 64}, [0, 1, 2]\n",
    "    ), (\n",
    "        {\"110\": 64, \"010\": 64}, [0, 1, 2]\n",
    "    ), ...]\n",
    "\n",
    "```\n",
    "\n",
    "- bitstring order: \"(last one)..(first one)\"\n",
    "- corresponding gate indices order: [(first one), ..., (last one)]\n",
    "\n",
    "```py\n",
    "ideal_results = job.ideal_result()\n",
    "\"\"\"\n",
    "list[tuple[dict[str, float], np.ndarray[int, np.dtype[int]]]]:\n",
    "    List of tuples containing the probabilities and the corresponding gate indices.\n",
    "\"\"\"\n",
    "```\n",
    "\n",
    "```{eval-rst}\n",
    "\n",
    ".. code-block::txt\n",
    "\n",
    "    # For examplem, a 3-qubit system\n",
    "    [(\n",
    "        {\"010\": 0.5, \"110\": 0.5}, [0, 1, 2]\n",
    "    ), (\n",
    "        {\"110\": 0.5, \"010\": 0.5}, [0, 1, 2]\n",
    "    ), ...]\n",
    "\n",
    "```\n",
    "\n",
    "- bitstring order: \"(last one)..(first one)\"\n",
    "- corresponding gate indices order: [(first one), ..., (last one)]\n"
   ]
  },
  {
   "cell_type": "code",
   "execution_count": 1,
   "id": "8995b1e0",
   "metadata": {},
   "outputs": [],
   "source": [
    "from qiskit import QuantumCircuit\n",
    "from qurry import ShadowUnveil"
   ]
  },
  {
   "cell_type": "markdown",
   "id": "4d46253f",
   "metadata": {},
   "source": [
    "## Circuits\n",
    "\n",
    "Here we prepare 2 circuits with 1 qubits and with 3 qubits, respectively.\n"
   ]
  },
  {
   "cell_type": "code",
   "execution_count": 2,
   "id": "1063afd4",
   "metadata": {},
   "outputs": [
    {
     "data": {
      "text/html": [
       "<pre style=\"word-wrap: normal;white-space: pre;background: #fff0;line-height: 1.1;font-family: &quot;Courier New&quot;,Courier,monospace\">   ┌───┐┌───────────────┐\n",
       "q: ┤ X ├┤ Delay(20[dt]) ├\n",
       "   └───┘└───────────────┘</pre>"
      ],
      "text/plain": [
       "   ┌───┐┌───────────────┐\n",
       "q: ┤ X ├┤ Delay(20[dt]) ├\n",
       "   └───┘└───────────────┘"
      ]
     },
     "execution_count": 2,
     "metadata": {},
     "output_type": "execute_result"
    }
   ],
   "source": [
    "def generate_1_qubits_delay_circuit(delay: int) -> QuantumCircuit:\n",
    "    \"\"\"\n",
    "    Generate a quantum circuit with a delay applied to each qubit.\n",
    "\n",
    "    Args:\n",
    "        delay (int): Delay to apply to each qubit.\n",
    "\n",
    "    Returns:\n",
    "        QuantumCircuit: The generated quantum circuit.\n",
    "    \"\"\"\n",
    "    qc = QuantumCircuit(1)\n",
    "    qc.x(0)\n",
    "    qc.delay(delay, 0)\n",
    "    return qc\n",
    "\n",
    "\n",
    "q1_delay = generate_1_qubits_delay_circuit(20)\n",
    "q1_delay.draw()"
   ]
  },
  {
   "cell_type": "code",
   "execution_count": 3,
   "id": "6fe2d937",
   "metadata": {},
   "outputs": [
    {
     "data": {
      "text/html": [
       "<pre style=\"word-wrap: normal;white-space: pre;background: #fff0;line-height: 1.1;font-family: &quot;Courier New&quot;,Courier,monospace\">     ┌───┐┌───────────────┐\n",
       "q_0: ┤ X ├┤ Delay(20[dt]) ├\n",
       "     ├───┤├───────────────┤\n",
       "q_1: ┤ X ├┤ Delay(20[dt]) ├\n",
       "     ├───┤├───────────────┤\n",
       "q_2: ┤ X ├┤ Delay(20[dt]) ├\n",
       "     └───┘└───────────────┘</pre>"
      ],
      "text/plain": [
       "     ┌───┐┌───────────────┐\n",
       "q_0: ┤ X ├┤ Delay(20[dt]) ├\n",
       "     ├───┤├───────────────┤\n",
       "q_1: ┤ X ├┤ Delay(20[dt]) ├\n",
       "     ├───┤├───────────────┤\n",
       "q_2: ┤ X ├┤ Delay(20[dt]) ├\n",
       "     └───┘└───────────────┘"
      ]
     },
     "execution_count": 3,
     "metadata": {},
     "output_type": "execute_result"
    }
   ],
   "source": [
    "def generate_n_qubits_delay_circuit(n: int, delay: int) -> QuantumCircuit:\n",
    "    \"\"\"\n",
    "    Generate a quantum circuit with a delay applied to each qubit.\n",
    "\n",
    "    Args:\n",
    "        n (int): Number of qubits in the circuit.\n",
    "        delay (int): Delay to apply to each qubit.\n",
    "\n",
    "    Returns:\n",
    "        QuantumCircuit: The generated quantum circuit.\n",
    "    \"\"\"\n",
    "    qc = QuantumCircuit(n)\n",
    "    for i in range(n):\n",
    "        qc.x(i)\n",
    "        qc.delay(delay, i)\n",
    "    return qc\n",
    "\n",
    "\n",
    "q3_delay = generate_n_qubits_delay_circuit(3, 20)\n",
    "q3_delay.draw()"
   ]
  },
  {
   "cell_type": "markdown",
   "id": "573a41bd",
   "metadata": {},
   "source": [
    "## Qurrium to Qua_libs\n",
    "\n",
    "How to use the [`Qurrium`](https://docs.qurrium.org) library to run a classical shadow simulation.\n",
    "\n",
    "See [Qurrium documentation - Basic Usage - 1.3 Entanglement Entropy by Classical Shadow](https://docs.qurrium.org/basic_usage/qurrent_1_3_classical_shadow.html) for more information.\n"
   ]
  },
  {
   "cell_type": "code",
   "execution_count": 4,
   "id": "91214281",
   "metadata": {},
   "outputs": [
    {
     "data": {
      "text/plain": [
       "'q3_delay'"
      ]
     },
     "execution_count": 4,
     "metadata": {},
     "output_type": "execute_result"
    }
   ],
   "source": [
    "exp_method04 = ShadowUnveil()\n",
    "\n",
    "exp_method04.add(q1_delay, \"q1_delay\")\n",
    "exp_method04.add(q3_delay, \"q3_delay\")"
   ]
  },
  {
   "cell_type": "code",
   "execution_count": 5,
   "id": "87fb2479",
   "metadata": {},
   "outputs": [
    {
     "data": {
      "text/plain": [
       "'a269b480-e890-44c4-a27c-c88b053ea68b'"
      ]
     },
     "execution_count": 5,
     "metadata": {},
     "output_type": "execute_result"
    }
   ],
   "source": [
    "exp_q1_delay_01 = exp_method04.measure(\"q1_delay\", times=10, shots=128)\n",
    "exp_q1_delay_01"
   ]
  },
  {
   "cell_type": "code",
   "execution_count": 6,
   "id": "dc97fefa",
   "metadata": {},
   "outputs": [
    {
     "data": {
      "text/plain": [
       "'b77e4cae-b856-47af-b82c-c09206dc1ea9'"
      ]
     },
     "execution_count": 6,
     "metadata": {},
     "output_type": "execute_result"
    }
   ],
   "source": [
    "exp_q3_delay_01 = exp_method04.measure(\"q3_delay\", times=10, shots=128)\n",
    "exp_q3_delay_01"
   ]
  },
  {
   "cell_type": "code",
   "execution_count": 7,
   "id": "3811c6c5",
   "metadata": {},
   "outputs": [],
   "source": [
    "from qurrium_quam_libs.classical_shadow import (\n",
    "    qurrium_to_qua_libs_result,\n",
    "    qurrium_to_qua_libs_ideal_result,\n",
    ")"
   ]
  },
  {
   "cell_type": "code",
   "execution_count": 8,
   "id": "d69e7ed4",
   "metadata": {},
   "outputs": [
    {
     "name": "stdout",
     "output_type": "stream",
     "text": [
      "| Result: [({'0': 74, '1': 54}, [1]), ({'0': 65, '1': 63}, [0]), ({'1': 128}, [2]), ({'1': 64, '0': 64}, [1]), ({'1': 65, '0': 63}, [1]), ({'0': 62, '1': 66}, [0]), ({'0': 73, '1': 55}, [1]), ({'0': 65, '1': 63}, [0]), ({'0': 67, '1': 61}, [0]), ({'1': 128}, [2])]\n",
      "| Ideal Result: [({'0': 0.4999999999999999, '1': 0.5000000000000001}, [1]), ({'0': 0.4999999999999999, '1': 0.5000000000000001}, [0]), ({'1': 1.0}, [2]), ({'0': 0.4999999999999999, '1': 0.5000000000000001}, [1]), ({'0': 0.4999999999999999, '1': 0.5000000000000001}, [1]), ({'0': 0.4999999999999999, '1': 0.5000000000000001}, [0]), ({'0': 0.4999999999999999, '1': 0.5000000000000001}, [1]), ({'0': 0.4999999999999999, '1': 0.5000000000000001}, [0]), ({'0': 0.4999999999999999, '1': 0.5000000000000001}, [0]), ({'1': 1.0}, [2])]\n"
     ]
    }
   ],
   "source": [
    "result_q1 = qurrium_to_qua_libs_result(exp_method04.exps[exp_q1_delay_01])\n",
    "ideal_result_q1 = qurrium_to_qua_libs_ideal_result(exp_method04.exps[exp_q1_delay_01])\n",
    "\n",
    "print(\"| Result:\", result_q1)\n",
    "print(\"| Ideal Result:\", ideal_result_q1)"
   ]
  },
  {
   "cell_type": "code",
   "execution_count": 9,
   "id": "e02a05b5",
   "metadata": {},
   "outputs": [
    {
     "name": "stdout",
     "output_type": "stream",
     "text": [
      "| Result: [({'011': 59, '111': 69}, [2, 2, 0]), ({'011': 69, '111': 59}, [2, 2, 0]), ({'101': 29, '110': 35, '111': 28, '100': 36}, [1, 0, 2]), ({'010': 30, '011': 31, '111': 37, '110': 30}, [0, 2, 1]), ({'110': 36, '010': 29, '011': 25, '111': 38}, [1, 2, 1]), ({'100': 11, '101': 17, '110': 18, '001': 14, '111': 18, '011': 11, '000': 18, '010': 21}, [1, 1, 1]), ({'110': 35, '100': 28, '101': 37, '111': 28}, [1, 0, 2]), ({'111': 11, '011': 14, '010': 12, '000': 20, '001': 15, '101': 19, '100': 18, '110': 19}, [0, 0, 0]), ({'100': 37, '110': 19, '111': 29, '101': 43}, [0, 0, 2]), ({'101': 33, '001': 31, '111': 34, '011': 30}, [2, 0, 1])]\n",
      "| Ideal Result: [({'011': 0.4999999999999999, '111': 0.5000000000000001}, [2, 2, 0]), ({'011': 0.4999999999999999, '111': 0.5000000000000001}, [2, 2, 0]), ({'100': 0.2499999999999999, '101': 0.25, '110': 0.25, '111': 0.2500000000000001}, [1, 0, 2]), ({'010': 0.2499999999999999, '011': 0.25, '110': 0.25, '111': 0.2500000000000001}, [0, 2, 1]), ({'010': 0.2499999999999999, '011': 0.25, '110': 0.25, '111': 0.2500000000000001}, [1, 2, 1]), ({'000': 0.12499999999999994, '001': 0.12499999999999997, '010': 0.12499999999999997, '011': 0.12500000000000003, '100': 0.12499999999999997, '101': 0.12500000000000003, '110': 0.12500000000000003, '111': 0.12500000000000006}, [1, 1, 1]), ({'100': 0.2499999999999999, '101': 0.25, '110': 0.25, '111': 0.2500000000000001}, [1, 0, 2]), ({'000': 0.12499999999999994, '001': 0.12499999999999997, '010': 0.12499999999999997, '011': 0.12500000000000003, '100': 0.12499999999999997, '101': 0.12500000000000003, '110': 0.12500000000000003, '111': 0.12500000000000006}, [0, 0, 0]), ({'100': 0.2499999999999999, '101': 0.25, '110': 0.25, '111': 0.2500000000000001}, [0, 0, 2]), ({'001': 0.2499999999999999, '011': 0.25, '101': 0.25, '111': 0.2500000000000001}, [2, 0, 1])]\n"
     ]
    }
   ],
   "source": [
    "result_q3 = qurrium_to_qua_libs_result(exp_method04.exps[exp_q3_delay_01])\n",
    "ideal_result_q3 = qurrium_to_qua_libs_ideal_result(exp_method04.exps[exp_q3_delay_01])\n",
    "\n",
    "print(\"| Result:\", result_q3)\n",
    "print(\"| Ideal Result:\", ideal_result_q3)"
   ]
  },
  {
   "cell_type": "markdown",
   "id": "2ac4863b",
   "metadata": {},
   "source": [
    "## Quam_libs to Qurrium\n",
    "\n",
    "Converting the results from `Quam_libs` to [`Qurrium`](https://docs.qurrium.org) format.\n"
   ]
  },
  {
   "cell_type": "code",
   "execution_count": 10,
   "id": "0bd58dec",
   "metadata": {},
   "outputs": [],
   "source": [
    "from qurrium_quam_libs.classical_shadow import qua_libs_result_to_qurrium"
   ]
  },
  {
   "cell_type": "markdown",
   "id": "0757318a",
   "metadata": {},
   "source": [
    "### 1 qubits case\n"
   ]
  },
  {
   "cell_type": "code",
   "execution_count": 11,
   "id": "7ed4500a",
   "metadata": {},
   "outputs": [],
   "source": [
    "converted_exp_q1 = qua_libs_result_to_qurrium(result_q1, shots_per_snapshot=128)"
   ]
  },
  {
   "cell_type": "code",
   "execution_count": 12,
   "id": "8e5c554f",
   "metadata": {},
   "outputs": [
    {
     "name": "stdout",
     "output_type": "stream",
     "text": [
      "| Converted Main Result:\n"
     ]
    },
    {
     "data": {
      "text/plain": [
       "{'classical_registers_actually': [0],\n",
       " 'taking_time': 0.0001544952392578125,\n",
       " 'mean_of_rho': array([[0.2      +0.j        , 0.0421875-0.00703125j],\n",
       "        [0.0421875+0.00703125j, 0.8      +0.j        ]]),\n",
       " 'purity': 0.60166015625,\n",
       " 'entropy': 0.7329792745726813,\n",
       " 'estimate_of_given_operators': [],\n",
       " 'accuracy_prob_comp_delta': nan,\n",
       " 'num_of_estimators_k': 0,\n",
       " 'accuracy_predict_epsilon': nan,\n",
       " 'maximum_shadow_norm': nan,\n",
       " 'input': {'shots': 128,\n",
       "  'num_qubits': 1,\n",
       "  'selected_qubits': [0],\n",
       "  'registers_mapping': {0: 0},\n",
       "  'bitstring_mapping': {0: 0},\n",
       "  'unitary_located': [0]},\n",
       " 'header': {'serial': 0, 'datetime': '2025-07-17 17:01:20', 'log': {}}}"
      ]
     },
     "execution_count": 12,
     "metadata": {},
     "output_type": "execute_result"
    }
   ],
   "source": [
    "report_01_converted = converted_exp_q1.analyze([0])\n",
    "main01_converted, side_product01_converted = report_01_converted.export()\n",
    "print(\"| Converted Main Result:\")\n",
    "main01_converted"
   ]
  },
  {
   "cell_type": "code",
   "execution_count": 13,
   "id": "2a498497",
   "metadata": {},
   "outputs": [
    {
     "name": "stdout",
     "output_type": "stream",
     "text": [
      "| Compare with their converted source in Qurrium:\n",
      "| Source Main Result:\n"
     ]
    },
    {
     "data": {
      "text/plain": [
       "{'classical_registers_actually': [0],\n",
       " 'taking_time': 9.72747802734375e-05,\n",
       " 'mean_of_rho': array([[0.2      +0.j        , 0.0421875-0.00703125j],\n",
       "        [0.0421875+0.00703125j, 0.8      +0.j        ]]),\n",
       " 'purity': 0.60166015625,\n",
       " 'entropy': 0.7329792745726813,\n",
       " 'estimate_of_given_operators': [],\n",
       " 'accuracy_prob_comp_delta': nan,\n",
       " 'num_of_estimators_k': 0,\n",
       " 'accuracy_predict_epsilon': nan,\n",
       " 'maximum_shadow_norm': nan,\n",
       " 'input': {'shots': 128,\n",
       "  'num_qubits': 1,\n",
       "  'selected_qubits': [0],\n",
       "  'registers_mapping': {0: 0},\n",
       "  'bitstring_mapping': {0: 0},\n",
       "  'unitary_located': [0]},\n",
       " 'header': {'serial': 0, 'datetime': '2025-07-17 17:01:20', 'log': {}}}"
      ]
     },
     "execution_count": 13,
     "metadata": {},
     "output_type": "execute_result"
    }
   ],
   "source": [
    "print(\"| Compare with their converted source in Qurrium:\")\n",
    "report_01_source = exp_method04.exps[exp_q1_delay_01].analyze([0])\n",
    "main01_source, side_product01_source = report_01_source.export()\n",
    "print(\"| Source Main Result:\")\n",
    "main01_source"
   ]
  },
  {
   "cell_type": "markdown",
   "id": "f293e77a",
   "metadata": {},
   "source": [
    "### 3 qubits case\n"
   ]
  },
  {
   "cell_type": "code",
   "execution_count": 14,
   "id": "7a98220c",
   "metadata": {},
   "outputs": [],
   "source": [
    "converted_exp_q3 = qua_libs_result_to_qurrium(result_q3, shots_per_snapshot=128)"
   ]
  },
  {
   "cell_type": "code",
   "execution_count": 15,
   "id": "7035da8f",
   "metadata": {},
   "outputs": [
    {
     "name": "stdout",
     "output_type": "stream",
     "text": [
      "| Converted Main Result:\n"
     ]
    },
    {
     "data": {
      "text/plain": [
       "{'classical_registers_actually': [0],\n",
       " 'taking_time': 0.00010395050048828125,\n",
       " 'mean_of_rho': array([[0.05      +0.j        , 0.02578125+0.01640625j],\n",
       "        [0.02578125-0.01640625j, 0.95      +0.j        ]]),\n",
       " 'purity': 0.7999755859375001,\n",
       " 'entropy': 0.321972123117804,\n",
       " 'estimate_of_given_operators': [],\n",
       " 'accuracy_prob_comp_delta': nan,\n",
       " 'num_of_estimators_k': 0,\n",
       " 'accuracy_predict_epsilon': nan,\n",
       " 'maximum_shadow_norm': nan,\n",
       " 'input': {'shots': 128,\n",
       "  'num_qubits': 3,\n",
       "  'selected_qubits': [0],\n",
       "  'registers_mapping': {0: 0, 1: 1, 2: 2},\n",
       "  'bitstring_mapping': {0: 0, 1: 1, 2: 2},\n",
       "  'unitary_located': [0, 1, 2]},\n",
       " 'header': {'serial': 0, 'datetime': '2025-07-17 17:01:40', 'log': {}}}"
      ]
     },
     "execution_count": 15,
     "metadata": {},
     "output_type": "execute_result"
    }
   ],
   "source": [
    "report_03_converted = converted_exp_q3.analyze([0])\n",
    "main03_converted, side_product03_converted = report_03_converted.export()\n",
    "print(\"| Converted Main Result:\")\n",
    "main03_converted"
   ]
  },
  {
   "cell_type": "code",
   "execution_count": 16,
   "id": "f3b6a84a",
   "metadata": {},
   "outputs": [
    {
     "name": "stdout",
     "output_type": "stream",
     "text": [
      "| Compare with their converted source in Qurrium:\n",
      "| Source Main Result:\n"
     ]
    },
    {
     "data": {
      "text/plain": [
       "{'classical_registers_actually': [0],\n",
       " 'taking_time': 0.00010442733764648438,\n",
       " 'mean_of_rho': array([[0.05      +0.j        , 0.02578125+0.01640625j],\n",
       "        [0.02578125-0.01640625j, 0.95      +0.j        ]]),\n",
       " 'purity': 0.7999755859375001,\n",
       " 'entropy': 0.321972123117804,\n",
       " 'estimate_of_given_operators': [],\n",
       " 'accuracy_prob_comp_delta': nan,\n",
       " 'num_of_estimators_k': 0,\n",
       " 'accuracy_predict_epsilon': nan,\n",
       " 'maximum_shadow_norm': nan,\n",
       " 'input': {'shots': 128,\n",
       "  'num_qubits': 3,\n",
       "  'selected_qubits': [0],\n",
       "  'registers_mapping': {0: 0, 1: 1, 2: 2},\n",
       "  'bitstring_mapping': {0: 0, 1: 1, 2: 2},\n",
       "  'unitary_located': [0, 1, 2]},\n",
       " 'header': {'serial': 0, 'datetime': '2025-07-17 17:01:41', 'log': {}}}"
      ]
     },
     "execution_count": 16,
     "metadata": {},
     "output_type": "execute_result"
    }
   ],
   "source": [
    "print(\"| Compare with their converted source in Qurrium:\")\n",
    "report_03_source = exp_method04.exps[exp_q3_delay_01].analyze([0])\n",
    "main03_source, side_product01_source = report_03_source.export()\n",
    "print(\"| Source Main Result:\")\n",
    "main03_source"
   ]
  },
  {
   "cell_type": "code",
   "execution_count": null,
   "id": "31227d78",
   "metadata": {},
   "outputs": [],
   "source": []
  }
 ],
 "metadata": {
  "kernelspec": {
   "display_name": "quam_arena11",
   "language": "python",
   "name": "python3"
  },
  "language_info": {
   "codemirror_mode": {
    "name": "ipython",
    "version": 3
   },
   "file_extension": ".py",
   "mimetype": "text/x-python",
   "name": "python",
   "nbconvert_exporter": "python",
   "pygments_lexer": "ipython3",
   "version": "3.11.12"
  }
 },
 "nbformat": 4,
 "nbformat_minor": 5
}
